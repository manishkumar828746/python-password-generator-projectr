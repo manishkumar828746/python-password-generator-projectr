{
 "cells": [
  {
   "cell_type": "code",
   "execution_count": 1,
   "id": "ae36e0ac-dfa1-4f55-92ce-835423c3a7b6",
   "metadata": {},
   "outputs": [],
   "source": [
    "from tkinter import *\n",
    "\n",
    "import pyperclip\n",
    "\n",
    "import random\n",
    "\n",
    "root = Tk()\n",
    "root.geometry(\"400x400\")\n",
    "\n",
    "passstr = StringVar()\n",
    "passlen = IntVar()\n",
    "passlen.set(0)\n",
    "\n",
    "def generate():\n",
    "    pass1 = ['a', 'b', 'c', 'd', 'e', 'f', 'g', 'h', 'i', 'j',\n",
    "            'k', 'l', 'm', 'n', 'o', 'p', 'q', 'r', 's', 't', \n",
    "            'u', 'v', 'w', 'x', 'y', 'z', 'A', 'B', 'C', 'D',\n",
    "            'E', 'F', 'G', 'H', 'I', 'J', 'K', 'L', 'M', 'N',\n",
    "            'O', 'P', 'Q', 'R', 'S', 'T', 'U', 'V', 'W', 'X', \n",
    "            'Y', 'Z', '1', '2', '3', '4', '5', '6', '7', '8', \n",
    "            '9', '0', ' ', '!', '@', '#', '$', '%', '^', '&', \n",
    "            '*', '(', ')']\n",
    "\n",
    "    password = \"\"\n",
    "\n",
    "    for x in range(passlen.get()):\n",
    "        password = password + random.choice(pass1)\n",
    "\n",
    "    passstr.set(password)\n",
    "\n",
    "def copytoclipboard():\n",
    "    random_password = passstr.get()\n",
    "    pyperclip.copy(random_password)\n",
    "\n",
    "Label(root, text=\"Password Generator Application\", font=\"calibri 20 bold\").pack()\n",
    "\n",
    "Label(root, text=\"Enter password length\").pack(pady=3)\n",
    "\n",
    "Entry(root, textvariable=passlen).pack(pady=3)\n",
    "\n",
    "Button(root, text=\"Generate Password\", command=generate).pack(pady=7)\n",
    "\n",
    "Entry(root, textvariable=passstr).pack(pady=3)\n",
    "\n",
    "Button(root, text=\"Copy to clipboard\", command=copytoclipboard).pack()\n",
    "\n",
    "root.mainloop()"
   ]
  }
 ],
 "metadata": {
  "kernelspec": {
   "display_name": "Python 3 (ipykernel)",
   "language": "python",
   "name": "python3"
  },
  "language_info": {
   "codemirror_mode": {
    "name": "ipython",
    "version": 3
   },
   "file_extension": ".py",
   "mimetype": "text/x-python",
   "name": "python",
   "nbconvert_exporter": "python",
   "pygments_lexer": "ipython3",
   "version": "3.12.7"
  }
 },
 "nbformat": 4,
 "nbformat_minor": 5
}
